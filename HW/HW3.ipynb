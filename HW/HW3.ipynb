{
 "cells": [
  {
   "cell_type": "markdown",
   "metadata": {},
   "source": [
    "# Homework 3 Roots of Equations, Curve Fitting and Numerical Integrations \n"
   ]
  },
  {
   "cell_type": "markdown",
   "metadata": {},
   "source": [
    "## Suspended Cable\n",
    "\n",
    " An electric power cable is suspended (at points of equal height) from two towers that are 100 meters apart. The cable is allowed to dip 10 meters in the middle. How long is the cable?\n",
    "It is known that the curve assumed by a suspended cable is a catenary. When the $y$-axis passes through the lowest point, we can assume an equation of the form $y = \\lambda \\cosh(x/\\lambda)$. \n",
    "1. Determine $\\lambda$ by solving \n",
    "\n",
    "$$\n",
    "y(50)=y(0)+10\n",
    "$$\n",
    "\n",
    "\n",
    "2. Find the arc length of the cable. \n",
    "\n",
    "\n",
    "<img src=\"HW3_Fig1.jpg\" width=\"400\"  alt=\"Suspended Cable\">\n"
   ]
  },
  {
   "cell_type": "code",
   "execution_count": null,
   "metadata": {},
   "outputs": [],
   "source": [
    "### Your Code Here "
   ]
  },
  {
   "cell_type": "markdown",
   "metadata": {},
   "source": [
    "## Integrable Singularities\n",
    "\n",
    "Consider the function\n",
    "\n",
    "$$\n",
    "f(x)=\\frac{1}{(\\epsilon+x)^\\alpha}\n",
    "$$\n",
    "\n",
    "with $\\epsilon \\geq 0$ and $0<\\alpha<1$. For $\\epsilon=0$ this function has an integrable singularity at $x=0$.  Investigate the convergence of two simple numerical integration schemes for $\\epsilon=1, \\epsilon=0$, and $\\epsilon \\approx 0$ to understand the concept of \"cross-over\" behavior, which is very common in physics.\n",
    "\n",
    "Write a program implementing the first and second order open-interval integration formulas\n",
    "\n",
    "\\begin{aligned}\n",
    "\\int_{x_0}^{x_N} f(x) d x & =h\\left(\\frac{3}{2} f_1+f_2+\\ldots+f_{N-2}+\\frac{3}{2} f_{N-1}\\right)+O\\left(h^2\\right) \\\\\n",
    "\\int_{x_0}^{x_N} f(x) d x & =h\\left(\\frac{23}{12} f_1+\\frac{7}{12} f_2+f_3+\\ldots+f_{N-3}+\\frac{7}{12} f_{N-2}+\\frac{23}{12} f_{N-1}\\right)+O\\left(h^3\\right).\n",
    "\\end{aligned}\n",
    "\n",
    "The integration range should be from $x_0=0$ to an upper bound $x_N$ given by the user. Write the program so that it carries out a series of integrations for different number of intervals $N$ of the form $N=N_0 \\times 2^n$ with $n=0,1, \\ldots, n_{\\max }$, where $N_0$ and $n_{\\max }$ are numbers given by the user."
   ]
  },
  {
   "cell_type": "code",
   "execution_count": null,
   "metadata": {},
   "outputs": [],
   "source": [
    "### Your Code Here"
   ]
  },
  {
   "cell_type": "markdown",
   "metadata": {},
   "source": [
    "With the above definitions, the discretization step is $h(N)=\\left(x_N-x_0\\right) / N$. You will study the rate of convergence of the first-order and second-order approximants $I_1(N)$ and $I_2(N)$ to the exact value $I$ of the integral by analyzing the error $\\Delta_k(N)=\\left|I_k(N)-I\\right|$. If the error has a power-law form;\n",
    "\n",
    "$$\n",
    "\\Delta_k(N)=\\left|I_k(N)-I\\right| \\propto h^{\\gamma_k} \\propto N^{-\\gamma_k}, \\quad k=1,2\n",
    "$$\n",
    "\n",
    "then data points $\\left[\\ln (h), \\ln \\left(\\Delta_k(N)\\right)\\right]$ calculated for different values of $N$ (i.e., $h$ ) should fall on a straight line with slope $\\gamma_k$."
   ]
  },
  {
   "cell_type": "markdown",
   "metadata": {},
   "source": [
    "### Convergence for a non-singular integrand\n",
    "Confirm the leading-order error scaling $\\sim h^2$ and $\\sim h^3$ of the integration formulas above, respectively, for a non-singular integrand. Use the parameters $\\epsilon=1$ and $\\alpha=1 / 2$, upper integration limit $x_N=1$, and initial number of points $N_0=10$. Produce a graph showing results for $\\left[\\ln (h), \\ln \\left(\\Delta_k(N)\\right)\\right]$ and lines corresponding to the expected exponents $\\gamma_1=2$ and $\\gamma_2=3$."
   ]
  },
  {
   "cell_type": "code",
   "execution_count": null,
   "metadata": {},
   "outputs": [],
   "source": [
    "### Your Code Here"
   ]
  },
  {
   "cell_type": "markdown",
   "metadata": {},
   "source": [
    "### Convergence when the integrand is singular\n",
    "\n",
    "Investigate the rate of convergence of the approximants $I_1(N)$ and $I_2(N)$ to the exact value of the integral when $\\epsilon=0$ and the upper integration limit $x_N=1$. Use $N_0=10$. You should again find that the error behaves as a power-law;\n",
    "\n",
    "$$\n",
    "\\Delta_k(N)=\\left|I_k(N)-I\\right| \\propto h^{\\gamma_k}, \\quad k=1,2\n",
    "$$\n",
    "\n",
    "What values do you obtain for the first and second order exponents $\\gamma_1$ and $\\gamma_2$ in the cases $\\alpha=1 / 2$ and $\\alpha=3 / 4$ ? You can find the exponent by fitting a straight line to the points $\\left[\\ln (h), \\ln \\left(\\Delta_k(N)\\right)\\right]$. In this case the data have no relevant error bars and, depending on how you do the fitting, you will either not need error bars or you can set them to an arbitrary non-zero constant, e.g., 1. Produce graphs showing the data and line fits. How can you explain the power-laws with the exponents obtained?\n"
   ]
  },
  {
   "cell_type": "code",
   "execution_count": null,
   "metadata": {},
   "outputs": [],
   "source": [
    "### Your Code Here"
   ]
  },
  {
   "cell_type": "markdown",
   "metadata": {},
   "source": [
    "### Convergence when the integrand is almost singular\n",
    "\n",
    "Now consider $\\epsilon=10^{-5}$ and $\\alpha=1 / 2$. Using the same values as in B) for the other parameters, investigate the convergence rate in the same way as above. You should now see a different behavior for small and large $n$ (the maximum $n$ will in principle be dictated by the double-precision floatingpoint numerical accuracy, but in practice by the time you are willing to run the calculation; $n \\approx 20$ will be sufficient).\n",
    "\n",
    "What are the exponents $\\gamma_1$ and $\\gamma_2$ for small and large $n$ ? How can you explain the results? How do you explain the location of the \"cross-over\" region where the behavior (exponent) changes?\n",
    "\n",
    "Produce graphs showing the data points $\\left[\\ln (h), \\ln \\left(\\Delta_k(n)\\right)\\right]$ and the lines you have fit to the data."
   ]
  },
  {
   "cell_type": "markdown",
   "metadata": {},
   "source": []
  }
 ],
 "metadata": {
  "kernelspec": {
   "display_name": "pytorch",
   "language": "python",
   "name": "python3"
  },
  "language_info": {
   "file_extension": ".jl",
   "mimetype": "application/julia",
   "name": "python",
   "version": "3.12.4"
  }
 },
 "nbformat": 4,
 "nbformat_minor": 2
}
