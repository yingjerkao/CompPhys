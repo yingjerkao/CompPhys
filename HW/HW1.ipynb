{
 "cells": [
  {
   "cell_type": "markdown",
   "metadata": {},
   "source": [
    "# Homework 1\n",
    "We will experiment how to convert bit patterns to into different types"
   ]
  },
  {
   "cell_type": "markdown",
   "metadata": {},
   "source": [
    "(a) Without using Numpy, implement a function `convert_to_signed` to take a 16-bit pattern as an input and output a signed integer.\n",
    "For example, for `0101110111101111` should give 24047 while `1101110111101111` should give -8721"
   ]
  },
  {
   "cell_type": "code",
   "execution_count": null,
   "metadata": {},
   "outputs": [],
   "source": [
    "x='0101110111101111'\n",
    "def convert_to_signed(x):\n"
   ]
  },
  {
   "cell_type": "markdown",
   "metadata": {},
   "source": [
    "(b) Implement a function `FP8`, to take into a 8-bit pattern in the binary format and convert it into a floating point number in the FP8 E4M3 format, that is, 4-bit exponent and 3-bit mantissa.  \n",
    "|  | E4M3 | \n",
    "| :--- | :--- |\n",
    "| Exponent bias | 7 |\n",
    "| Infinities | N/A | \n",
    "| NaN | $S .1111 .111_2$ | \n",
    "| Zeros | $S .0000 .000_2$ | \n",
    "| Max normal | $S .1111 .110_2=1.75 * 2^8=448$ | \n",
    "| Min normal | $S .0001 .000_2=2^{-6}$ | \n",
    "| Max subnorm | $S .0000 .111_2=0.875 * 2^{-6}$ | \n",
    "| Min subnorm | $S .0000 .001_2=2^{-9}$ | "
   ]
  },
  {
   "cell_type": "code",
   "execution_count": null,
   "metadata": {},
   "outputs": [],
   "source": [
    "x='01011101'\n",
    "def FP8(x):\n"
   ]
  },
  {
   "cell_type": "markdown",
   "metadata": {},
   "source": [
    "(c) Implement a function `machineEpsilon` to determine the machine Epsilon for a given type `func` (default flow). Test your function with `int`, `float` and `complex`. "
   ]
  },
  {
   "cell_type": "code",
   "execution_count": null,
   "metadata": {},
   "outputs": [],
   "source": [
    "def machineEpsilon(func=float):\n"
   ]
  }
 ],
 "metadata": {
  "kernelspec": {
   "display_name": "pytorch",
   "language": "python",
   "name": "python3"
  },
  "language_info": {
   "codemirror_mode": {
    "name": "ipython",
    "version": 3
   },
   "file_extension": ".py",
   "mimetype": "text/x-python",
   "name": "python",
   "nbconvert_exporter": "python",
   "pygments_lexer": "ipython3",
   "version": "3.10.13"
  }
 },
 "nbformat": 4,
 "nbformat_minor": 2
}
