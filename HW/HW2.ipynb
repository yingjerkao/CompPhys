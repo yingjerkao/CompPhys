{
 "cells": [
  {
   "cell_type": "markdown",
   "metadata": {},
   "source": [
    "# Homework 2\n"
   ]
  },
  {
   "cell_type": "code",
   "execution_count": 3,
   "metadata": {},
   "outputs": [],
   "source": [
    "import numpy as np"
   ]
  },
  {
   "cell_type": "markdown",
   "metadata": {},
   "source": [
    "## Interpolation\n",
    "\n",
    "(a) Write a function `my_lagrange` for  the Lagrange interpolation process to obtain a polynomial of least degree and test it on the following data\n",
    "\n",
    "| $x$ | 0 | 2 | 3 | 4 |\n",
    "| :--- | :---: | :---: | :---: | :---: |\n",
    "| $y$ | 7 | 11 | 28 | 63 |\n",
    "\n",
    "Compare your results with those obtained from `scipy.interpolate.lagrange`.\n"
   ]
  },
  {
   "cell_type": "code",
   "execution_count": 2,
   "metadata": {},
   "outputs": [],
   "source": [
    "def my_lagrange(x, w):\n",
    "    ''' x array_like\n",
    "    x represents the x-coordinates of a set of datapoints.\n",
    "    w array_like\n",
    "    w represents the y-coordinates of a set of datapoints, i.e., f(x).'''"
   ]
  },
  {
   "cell_type": "markdown",
   "metadata": {},
   "source": [
    "(b) The table shows the drag coefficient $c_D$ of a sphere as a function of Reynold’s\n",
    "number $Re$ Use a natural cubic spline to find $c_D$ at $Re$ = 5, 50, 500, and 5000.\n",
    "| $R e$ | 0.2 | 2 | 20 | 200 | 2000 | 20000 |\n",
    "| :---: | :---: | :---: | :---: | :---: | :---: | :---: |\n",
    "| $c_D$ | 103 | 13.9 | 2.72 | 0.800 | 0.401 | 0.433 |\n",
    "\n",
    "You can use `scipy.interpolate.CubicSpline` for this. "
   ]
  },
  {
   "cell_type": "markdown",
   "metadata": {},
   "source": [
    "## Numerical differentiation \n",
    "\n",
    "\n",
    "Find $f^{\\prime}(0.25)$ as accurately as possible, using only the function given to  below and a method for numerical differentiation:\n",
    "\n"
   ]
  },
  {
   "cell_type": "code",
   "execution_count": 4,
   "metadata": {},
   "outputs": [],
   "source": [
    "def f(x):\n",
    "    a=1\n",
    "    b=np.cos(x)\n",
    "    for i in range(1,6):\n",
    "        c=b\n",
    "        b=np.sqrt(a*b)\n",
    "        a=(a+c)/2\n",
    "    return np.pi/2/a\n",
    "\n"
   ]
  },
  {
   "cell_type": "markdown",
   "metadata": {},
   "source": [
    "## First-Derivative Formulas via Interpolation Polynomials\n",
    "\n",
    "(a) We can estimate the first-derivate by consider four  interpolation points: $x_0$, $x_1$, $x_2$, and $x_3$.\n",
    "The interpolating polnomial with $n=3$ is \n",
    "$$\n",
    "p_3(x)=  f\\left(x_0\\right)+f\\left[x_0, x_1\\right]\\left(x-x_0\\right)+f\\left[x_0, x_1, x_2\\right]\\left(x-x_0\\right)\\left(x-x_1\\right) \n",
    " +f\\left[x_0, x_1, x_2, x_3\\right]\\left(x-x_0\\right)\\left(x-x_1\\right)\\left(x-x_2\\right),\n",
    "$$\n",
    "and the derivative is \n",
    "$$\n",
    "p_3^{\\prime}(x)=  f\\left[x_0, x_1\\right]+f\\left[x_0, x_1, x_2\\right]\\left(2 x-x_0-x_1\\right) \n",
    " +f\\left[x_0, x_1, x_2, x_3\\right]\\left(\\left(x-x_1\\right)\\left(x-x_2\\right)\\right. \n",
    " \\left.+\\left(x-x_0\\right)\\left(x-x_2\\right)+\\left(x-x_0\\right)\\left(x-x_1\\right)\\right)\n",
    "$$\n",
    "\n",
    "Show that for $x_0=x-h, x_1=x+h, x_2=x-2h, x_3=x+2h$, you obtain \n",
    "$$\n",
    "f^{\\prime}(x) \\approx \\frac{1}{2 h}[f(x+h)-f(x-h)]  -\\frac{1}{12 h}\\{f(x+2 h)-2[f(x+h)-f(x-h)]-f(x-2 h)\\},\n",
    "$$\n",
    "\n",
    "![](./Tut2_Fig.jpg)\n",
    "\n",
    "(b) Compare the accuraccy of two-node central difference formula\n",
    "$$\n",
    "f^{\\prime}(x) \\approx \\frac{1}{2 h}[f(x+h)-f(x-h)],\n",
    "$$ \n",
    "and four-node central difference formula given above\n",
    "by taking a sequence of values for $h=4^{-n}, n=0, 1, \\ldots, 12.$\n"
   ]
  },
  {
   "cell_type": "markdown",
   "metadata": {},
   "source": []
  }
 ],
 "metadata": {
  "kernelspec": {
   "display_name": "pytorch",
   "language": "python",
   "name": "python3"
  },
  "language_info": {
   "codemirror_mode": {
    "name": "ipython",
    "version": 3
   },
   "file_extension": ".py",
   "mimetype": "text/x-python",
   "name": "python",
   "nbconvert_exporter": "python",
   "pygments_lexer": "ipython3",
   "version": "3.12.4"
  }
 },
 "nbformat": 4,
 "nbformat_minor": 2
}
