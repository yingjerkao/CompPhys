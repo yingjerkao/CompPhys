{
 "cells": [
  {
   "cell_type": "markdown",
   "metadata": {},
   "source": [
    "# Homework 2\n"
   ]
  },
  {
   "cell_type": "markdown",
   "metadata": {},
   "source": [
    "(a) Given the data\n",
    "\n",
    "| $x$ | 0.84 | 0.92 | 1.00 | 1.08 | 1.16 |\n",
    "| :---: | :---: | :---: | :---: | :---: | :---: |\n",
    "| $f(x)$ | 0.431711 | 0.398519 | 0.367879 | 0.339596 | 0.313486 |\n",
    "\n",
    "calculate $f^{\\prime \\prime}(1)$ as accurately as you can."
   ]
  },
  {
   "cell_type": "markdown",
   "metadata": {},
   "source": [
    "(b) "
   ]
  }
 ],
 "metadata": {
  "kernelspec": {
   "display_name": "pytorch",
   "language": "python",
   "name": "python3"
  },
  "language_info": {
   "codemirror_mode": {
    "name": "ipython",
    "version": 3
   },
   "file_extension": ".py",
   "mimetype": "text/x-python",
   "name": "python",
   "nbconvert_exporter": "python",
   "pygments_lexer": "ipython3",
   "version": "3.10.13"
  }
 },
 "nbformat": 4,
 "nbformat_minor": 2
}
