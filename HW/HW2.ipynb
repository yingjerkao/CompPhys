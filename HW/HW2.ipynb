{
 "cells": [
  {
   "cell_type": "markdown",
   "metadata": {},
   "source": [
    "# Homework 2\n"
   ]
  },
  {
   "cell_type": "markdown",
   "metadata": {},
   "source": [
    "## Interpolation\n",
    "\n",
    "(a) Write a function `my_lagrange` for  the Lagrange interpolation process to obtain a polynomial of least degree and test it on the following data\n",
    "\n",
    "| $x$ | 0 | 2 | 3 | 4 |\n",
    "| :--- | :---: | :---: | :---: | :---: |\n",
    "| $y$ | 7 | 11 | 28 | 63 |\n",
    "\n",
    "Compare your results with those obtained from `scipy.interpolate.lagrange`.\n"
   ]
  },
  {
   "cell_type": "code",
   "execution_count": 2,
   "metadata": {},
   "outputs": [],
   "source": [
    "def my_lagrange(x, w):\n",
    "    ''' x array_like\n",
    "    x represents the x-coordinates of a set of datapoints.\n",
    "    w array_like\n",
    "    w represents the y-coordinates of a set of datapoints, i.e., f(x).'''"
   ]
  },
  {
   "cell_type": "markdown",
   "metadata": {},
   "source": [
    "(b) Given the data\n",
    "\n",
    "| $x$ | 0.84 | 0.92 | 1.00 | 1.08 | 1.16 |\n",
    "| :---: | :---: | :---: | :---: | :---: | :---: |\n",
    "| $f(x)$ | 0.431711 | 0.398519 | 0.367879 | 0.339596 | 0.313486 |\n",
    "\n",
    "calculate $f^{\\prime \\prime}(1)$ as accurately as you can."
   ]
  },
  {
   "cell_type": "code",
   "execution_count": null,
   "metadata": {},
   "outputs": [],
   "source": [
    "def my_richardson(x, w):\n",
    "    ''' x array_like\n",
    "    x represents the x-coordinates of a set of datapoints.\n",
    "    w array_like\n",
    "    w represents the y-coordinates of a set of datapoints, i.e., f(x).'''"
   ]
  },
  {
   "cell_type": "markdown",
   "metadata": {},
   "source": [
    "## First-Derivative Formulas via Interpolation Polynomials\n",
    "\n",
    "(a) We can estimate the first-derivate by consider four  interpolation points: $x_0$, $x_1$, $x_2$, and $x_3$.\n",
    "The interpolating polnomial with $n=3$ is \n",
    "$$\n",
    "p_3(x)=  f\\left(x_0\\right)+f\\left[x_0, x_1\\right]\\left(x-x_0\\right)+f\\left[x_0, x_1, x_2\\right]\\left(x-x_0\\right)\\left(x-x_1\\right) \n",
    " +f\\left[x_0, x_1, x_2, x_3\\right]\\left(x-x_0\\right)\\left(x-x_1\\right)\\left(x-x_2\\right),\n",
    "$$\n",
    "and the derivative is \n",
    "$$\n",
    "p_3^{\\prime}(x)=  f\\left[x_0, x_1\\right]+f\\left[x_0, x_1, x_2\\right]\\left(2 x-x_0-x_1\\right) \n",
    " +f\\left[x_0, x_1, x_2, x_3\\right]\\left(\\left(x-x_1\\right)\\left(x-x_2\\right)\\right. \n",
    " \\left.+\\left(x-x_0\\right)\\left(x-x_2\\right)+\\left(x-x_0\\right)\\left(x-x_1\\right)\\right)\n",
    "$$\n",
    "\n",
    "Show that for $x_0=x-h, x_1=x+h, x_2=x-2h, x_3=x+2h$, you obtain \n",
    "$$\n",
    "f^{\\prime}(x) \\approx \\frac{1}{2 h}[f(x+h)-f(x-h)]  -\\frac{1}{12 h}\\{f(x+2 h)-2[f(x+h)-f(x-h)]-f(x-2 h)\\},\n",
    "$$\n",
    "\n",
    "![](./Tut2_Fig.jpg)\n",
    "\n",
    "(b) Compare the accuraccy of two-node central difference formula\n",
    "$$\n",
    "f^{\\prime}(x) \\approx \\frac{1}{2 h}[f(x+h)-f(x-h)],\n",
    "$$ \n",
    "and four-node central difference formula given above\n",
    "by taking a sequence of values for $h=4^{-n}, n=0, 1, \\ldots, 12.$\n"
   ]
  },
  {
   "cell_type": "markdown",
   "metadata": {},
   "source": []
  }
 ],
 "metadata": {
  "kernelspec": {
   "display_name": "pytorch",
   "language": "python",
   "name": "python3"
  },
  "language_info": {
   "codemirror_mode": {
    "name": "ipython",
    "version": 3
   },
   "file_extension": ".py",
   "mimetype": "text/x-python",
   "name": "python",
   "nbconvert_exporter": "python",
   "pygments_lexer": "ipython3",
   "version": "3.12.4"
  }
 },
 "nbformat": 4,
 "nbformat_minor": 2
}
