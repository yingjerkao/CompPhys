{
 "cells": [
  {
   "cell_type": "markdown",
   "metadata": {},
   "source": [
    "# Tutorial 9: Numerical Solutions of the motion of a Simple Harmonic Oscilator\n"
   ]
  },
  {
   "cell_type": "markdown",
   "metadata": {},
   "source": [
    "\n",
    "\n",
    "\n",
    "In this notebook, we will study the numerical solution of the motion of a simple harmonic oscillator (SHO). \n",
    "The equation of motion for a SHO is \n",
    "$$\n",
    "\n",
    "m\\ddot{\\mathbf{x}}=-k\\mathbf{x}\n",
    "\n",
    "$$"
   ]
  },
  {
   "cell_type": "code",
   "execution_count": null,
   "metadata": {},
   "outputs": [],
   "source": [
    "import numpy as np\n",
    "import matplotlib.pyplot as plt\n",
    "\n",
    "# Parameters for the harmonic oscillator\n",
    "omega = 1.0  # Angular frequency\n",
    "dt = 0.01  # Time step\n",
    "t_max = 20.0  # Total simulation time\n",
    "x0 = 1.0  # Initial position\n",
    "v0 = 0.0  # Initial velocity\n",
    "\n",
    "# Time array\n",
    "t = np.arange(0, t_max, dt)\n",
    "\n",
    "\n",
    "# Function to calculate total energy\n",
    "def calculate_energy(x, v):\n",
    "    kinetic = 0.5 * v**2\n",
    "    potential = 0.5 * omega**2 * x**2\n",
    "    return kinetic + potential\n",
    "\n",
    "\n",
    "# Euler Method\n",
    "x_euler = np.zeros(len(t))\n",
    "v_euler = np.zeros(len(t))\n",
    "x_euler[0] = x0\n",
    "v_euler[0] = v0\n",
    "\n",
    "for i in range(1, len(t)):\n",
    "    x_euler[i] = x_euler[i - 1] + dt * v_euler[i - 1]\n",
    "    v_euler[i] = v_euler[i - 1] - dt * omega**2 * x_euler[i - 1]\n",
    "\n",
    "energy_euler = calculate_energy(x_euler, v_euler)\n",
    "\n",
    "# Leapfrog Integration\n",
    "x_leapfrog = np.zeros(len(t))\n",
    "v_leapfrog = np.zeros(len(t))\n",
    "v1=np.zeros(len(t)) # for velocity at t\n",
    "x_leapfrog[0] = x0\n",
    "v_leapfrog[0] = v0 - 0.5 * dt * omega**2 * x0  # Half-step initialization for velocity\n",
    "v1[0]=v0\n",
    "for i in range(1, len(t)):\n",
    "    x_leapfrog[i] = x_leapfrog[i - 1] + dt * v_leapfrog[i - 1]\n",
    "    v_leapfrog[i] = v_leapfrog[i - 1] - dt * omega**2 * x_leapfrog[i]\n",
    "    v1[i]=v_leapfrog[i-1] + 0.5*dt *omega**2 *x_leapfrog[i] #velocity at t\n",
    "energy_leapfrog = calculate_energy(x_leapfrog, v_leapfrog)\n",
    "\n",
    "# Plotting results\n",
    "plt.figure(figsize=(12, 8))\n",
    "\n",
    "# Position comparison\n",
    "plt.subplot(3, 1, 1)\n",
    "plt.plot(t, x_euler, label=\"Euler Method\")\n",
    "plt.plot(t, x_leapfrog, label=\"Leapfrog Integration\")\n",
    "plt.title(\"$x$ vs. $t$\")\n",
    "plt.xlabel(\"$t$\")\n",
    "plt.ylabel(\"$x$\")\n",
    "plt.legend()\n",
    "\n",
    "# Velocity comparison\n",
    "plt.subplot(3, 1, 2)\n",
    "plt.plot(t, v_euler, label=\"Euler Method\")\n",
    "plt.plot(t, v_leapfrog, label=\"Leapfrog Integration\")\n",
    "plt.title(\"$\\dot{x}$ vs. t\")\n",
    "plt.xlabel(\"$t$\")\n",
    "plt.ylabel(\"$\\dot{x}$\")\n",
    "plt.legend()\n",
    "\n",
    "# Energy comparison\n",
    "plt.subplot(3, 1, 3)\n",
    "plt.plot(t, energy_euler, label=\"Euler Method\")\n",
    "plt.plot(t, energy_leapfrog, label=\"Leapfrog Integration\")\n",
    "plt.title(\"$E$ vs. $t$\")\n",
    "plt.xlabel(\"$t$\")\n",
    "plt.ylabel(\"$E$\")\n",
    "plt.legend()\n",
    "\n",
    "\n",
    "\n",
    "plt.tight_layout()\n",
    "plt.show()"
   ]
  },
  {
   "cell_type": "markdown",
   "metadata": {},
   "source": [
    "## Phase Diagram Plot\n",
    "\n",
    "For a given initial condition, the energy is conserved and the "
   ]
  },
  {
   "cell_type": "code",
   "execution_count": null,
   "metadata": {},
   "outputs": [],
   "source": [
    "\n",
    "plt.plot(x_euler, v_euler, label=\"Euler Method\")\n",
    "plt.plot(x_leapfrog, v1, label=\"Leapfrog Integration\")\n",
    "plt.title(\"Phase Space Plot\")\n",
    "plt.xlabel(\"$x$\")\n",
    "plt.ylabel(\"$v$\")\n",
    "plt.gca().set_aspect('equal', adjustable='box')\n",
    "plt.legend()"
   ]
  },
  {
   "cell_type": "markdown",
   "metadata": {},
   "source": [
    "## Comparision with the exact solution"
   ]
  },
  {
   "cell_type": "code",
   "execution_count": null,
   "metadata": {},
   "outputs": [],
   "source": [
    "plt.plot(t, x_leapfrog, label=\"Leapfrog Integration\")\n",
    "plt.plot(t,np.cos(t),label=\"Analytical\")\n",
    "plt.xlabel(\"t\")\n",
    "plt.ylabel(\"x\")\n"
   ]
  },
  {
   "cell_type": "code",
   "execution_count": null,
   "metadata": {},
   "outputs": [],
   "source": [
    "plt.plot(t, v1,label=\"Leapfrog Integration\")\n",
    "plt.plot(t,-np.sin(t),label=\"Analytical\")\n",
    "plt.xlabel(\"t\")\n",
    "plt.ylabel(\"v\")"
   ]
  },
  {
   "cell_type": "code",
   "execution_count": null,
   "metadata": {},
   "outputs": [],
   "source": [
    "plt.plot(t,energy_leapfrog)\n",
    "E0 = 0.5 * omega**2 * x0**2 + 0.5 * v0**2\n",
    "plt.axhline(E0, color='k', linestyle='--', label=\"Initial Energy\")\n",
    "plt.title(\"Energy vs. $t$\")\n",
    "plt.xlabel(\"t\")\n",
    "plt.ylabel(\"E\")\n"
   ]
  },
  {
   "cell_type": "code",
   "execution_count": null,
   "metadata": {},
   "outputs": [],
   "source": [
    "plt.plot(x_leapfrog, v1, label=\"Leapfrog Integration\")\n",
    "plt.plot(np.cos(t), -np.sin(t), label=\"Analytical\")\n",
    "plt.gca().set_aspect('equal', adjustable='box')\n",
    "plt.title(\"Phase Space Plot\")\n",
    "plt.xlabel(\"$x$\")\n",
    "plt.ylabel(\"$v$\")\n",
    "plt.legend()\n"
   ]
  },
  {
   "cell_type": "markdown",
   "metadata": {},
   "source": [
    "## TODO\n",
    " In addition to Euler's method, perform the calculation using RK45, and repeat the above comparisons. \n",
    " "
   ]
  }
 ],
 "metadata": {
  "kernelspec": {
   "display_name": "pytorch",
   "language": "python",
   "name": "python3"
  },
  "language_info": {
   "codemirror_mode": {
    "name": "ipython",
    "version": 3
   },
   "file_extension": ".py",
   "mimetype": "text/x-python",
   "name": "python",
   "nbconvert_exporter": "python",
   "pygments_lexer": "ipython3",
   "version": "3.10.13"
  }
 },
 "nbformat": 4,
 "nbformat_minor": 2
}
