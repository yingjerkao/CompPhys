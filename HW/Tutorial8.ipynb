{
 "cells": [
  {
   "cell_type": "markdown",
   "metadata": {},
   "source": [
    "# Tutorial 7: Exact Diagonalization of Transverse Ising Model"
   ]
  },
  {
   "cell_type": "markdown",
   "metadata": {},
   "source": [
    "## Exact Diagonalization of a XXZ Chain \n",
    "\n",
    "\n",
    "\n",
    "The so-called XXZ model is given by \n",
    "$$\n",
    "H=\\sum_{i=1}^{L} \\left( J \\left( S_i^x S_{i+1}^x + S_i^y S_{i+1}^y \\right) + \\Delta S_i^z S_{i+1}^z \\right)\n",
    "$$\n",
    "\n",
    "When $\\Delta=1$, we have a Heisenberg model.\n",
    "The code below shows how to construct the Hamiltonian using the method described in class. Here we work in the  $S_z=0$ sector. \n",
    "Modify this code fro the XXZ model. "
   ]
  },
  {
   "cell_type": "code",
   "execution_count": 2,
   "metadata": {},
   "outputs": [
    {
     "name": "stdout",
     "output_type": "stream",
     "text": [
      "Ground State Energy: -1.6108143415915814\n",
      "Ground State Wavefunction: [ 0.01163068 -0.0982008   0.0982008  -0.01163068  0.0982008  -0.66463057\n",
      "  0.0982008   0.0982008  -0.0982008   0.01163068 -0.01163068  0.0982008\n",
      " -0.0982008  -0.0982008   0.66463057 -0.0982008   0.01163068 -0.0982008\n",
      "  0.0982008  -0.01163068]\n"
     ]
    }
   ],
   "source": [
    "import numpy as np\n",
    "from scipy.sparse import csr_matrix\n",
    "from scipy.sparse.linalg import eigsh\n",
    "\n",
    "def construct_hamiltonian(L, J):\n",
    "    \"\"\"\n",
    "    Constructs the Heisenberg Hamiltonian for a spin-1/2 chain of length L with periodic boundary conditions.\n",
    "    The Hamiltonian is built in the Sz=0 sector.\n",
    "    \"\"\"\n",
    "    # Generate all possible spin configurations as integers\n",
    "    states = []\n",
    "    for state in range(2**L):\n",
    "        spin_sum = sum(1 if (state >> i) & 1 else -1 for i in range(L))\n",
    "        if spin_sum == 0:  # Select only states with Sz = 0\n",
    "            states.append(state)\n",
    "\n",
    "    # Mapping of states to basis indices\n",
    "    state_to_index = {state: idx for idx, state in enumerate(states)}\n",
    "    dim = len(states)\n",
    "\n",
    "    # Sparse matrix storage for the Hamiltonian\n",
    "    rows, cols, data = [], [], []\n",
    "\n",
    "    # Construct the Hamiltonian\n",
    "    for state in states:\n",
    "        i = state_to_index[state]\n",
    "\n",
    "        # Iterate over all pairs of neighboring spins\n",
    "        for site in range(L):\n",
    "            # Sites to interact\n",
    "            spin1 = (state >> site) & 1\n",
    "            spin2 = (state >> ((site + 1) % L)) & 1\n",
    "\n",
    "            # ZZ term\n",
    "            zz = (1 if spin1 == spin2 else -1)\n",
    "            rows.append(i)\n",
    "            cols.append(i)\n",
    "            data.append(J * zz * 0.25)\n",
    "\n",
    "            # XX and YY terms (off-diagonal)\n",
    "            if spin1 != spin2:\n",
    "                # Flip spins\n",
    "                flipped_state = state ^ (1 << site) ^ (1 << ((site + 1) % L))\n",
    "                j = state_to_index[flipped_state]\n",
    "                rows.append(i)\n",
    "                cols.append(j)\n",
    "                data.append(J * 0.5 * 0.25)\n",
    "\n",
    "    # Build sparse Hamiltonian matrix\n",
    "    H = csr_matrix((data, (rows, cols)), shape=(dim, dim), dtype=np.float64)\n",
    "    return H, states\n",
    "\n",
    "def heisenberg_ground_state(L, J=1.0):\n",
    "    \"\"\"\n",
    "    Computes the ground state energy and wavefunction of a spin-1/2 Heisenberg chain of length L\n",
    "    with periodic boundary conditions, in the Sz=0 symmetry sector.\n",
    "    \"\"\"\n",
    "    H, states = construct_hamiltonian(L, J)\n",
    "\n",
    "    # Find the lowest eigenvalue and eigenvector using sparse diagonalization\n",
    "    eigenvalues, eigenvectors = eigsh(H, k=1, which='SA')\n",
    "\n",
    "    ground_state_energy = eigenvalues[0]\n",
    "    ground_state_wavefunction = eigenvectors[:, 0]\n",
    "\n",
    "    return ground_state_energy, ground_state_wavefunction, states\n",
    "\n",
    "# Parameters\n",
    "L = 6  # Length of the chain\n",
    "J = 1.0  # Exchange interaction strength\n",
    "\n",
    "# Compute ground state\n",
    "energy, wavefunction, states = heisenberg_ground_state(L, J)\n",
    "\n",
    "print(\"Ground State Energy:\", energy)\n",
    "print(\"Ground State Wavefunction:\", wavefunction)\n",
    "\n",
    "\t\t\n",
    "\t\t\n",
    "\t\t\n",
    "\t\t\n",
    "\t\t\n"
   ]
  },
  {
   "cell_type": "code",
   "execution_count": null,
   "metadata": {},
   "outputs": [],
   "source": []
  },
  {
   "cell_type": "markdown",
   "metadata": {},
   "source": []
  }
 ],
 "metadata": {
  "kernelspec": {
   "display_name": "pytorch",
   "language": "python",
   "name": "python3"
  },
  "language_info": {
   "codemirror_mode": {
    "name": "ipython",
    "version": 3
   },
   "file_extension": ".py",
   "mimetype": "text/x-python",
   "name": "python",
   "nbconvert_exporter": "python",
   "pygments_lexer": "ipython3",
   "version": "3.12.4"
  }
 },
 "nbformat": 4,
 "nbformat_minor": 2
}
