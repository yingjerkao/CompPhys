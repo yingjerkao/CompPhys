{
 "cells": [
  {
   "cell_type": "markdown",
   "metadata": {},
   "source": [
    "# Tutorial 3\n"
   ]
  },
  {
   "cell_type": "code",
   "execution_count": 2,
   "metadata": {},
   "outputs": [],
   "source": [
    "import sys\n",
    "import numpy as np\n",
    "import scipy as sp\n",
    "from scipy import optimize\n",
    "import matplotlib.pyplot as plt"
   ]
  },
  {
   "cell_type": "code",
   "execution_count": 3,
   "metadata": {},
   "outputs": [],
   "source": [
    "import sys\n",
    "def err(string):\n",
    "    print(string)\n",
    "    input('Press return to exit')\n",
    "    sys.exit(0)\n"
   ]
  },
  {
   "cell_type": "markdown",
   "metadata": {},
   "source": [
    "## Bisection Method"
   ]
  },
  {
   "cell_type": "code",
   "execution_count": 36,
   "metadata": {},
   "outputs": [],
   "source": [
    "## module bisection\n",
    "''' root = bisection(f,x1,x2,switch=0,tol=1.0e-9).\n",
    "    Finds a root of f(x) = 0 by bisection.\n",
    "    The root must be bracketed in (x1,x2).\n",
    "    Setting switch = 1 returns root = None if\n",
    "    f(x) increases upon bisection.\n",
    "'''    \n",
    "\n",
    "\n",
    "def bisection(f,x1,x2,switch=1,tol=1.0e-9):\n",
    "    import math\n",
    "    from numpy import sign\n",
    "    f1 = f(x1)\n",
    "    if f1 == 0.0: return x1,0\n",
    "    f2 = f(x2)\n",
    "    if f2 == 0.0: return x2,0\n",
    "    if sign(f1) == sign(f2):\n",
    "        err('[BS]Root is not bracketed')\n",
    "    n = int(math.ceil(math.log(abs(x2 - x1)/tol)/math.log(2.0)))\n",
    "    \n",
    "    for i in range(n):\n",
    "        x3 = 0.5*(x1 + x2); f3 = f(x3)\n",
    "        if (switch == 1) and (abs(f3) > abs(f1)) \\\n",
    "                         and (abs(f3) > abs(f2)):\n",
    "            return None   \n",
    "        if f3 == 0.0: return x3,i\n",
    "        if sign(f2)!= sign(f3): x1 = x3; f1 = f3\n",
    "        else: x2 = x3; f2 = f3\n",
    "    return (x1 + x2)/2.0,n\n"
   ]
  },
  {
   "cell_type": "markdown",
   "metadata": {},
   "source": [
    "## Newton-Raphson method"
   ]
  },
  {
   "cell_type": "code",
   "execution_count": 49,
   "metadata": {},
   "outputs": [],
   "source": [
    "## module newtonRaphson\n",
    "''' root = newtonRaphson(f,df,a,b,tol=1.0e-9).\n",
    "    Finds a root of f(x) = 0 by combining the Newton-Raphson\n",
    "    method.\n",
    "    Calls user-supplied functions f(x) and its derivative df(x).   \n",
    "'''    \n",
    "def newtonRaphson(f,df,x0,tol=1.0e-9):\n",
    "    \n",
    "    x=x0                 \n",
    "    for i in range(30):\n",
    "        fx = f(x)\n",
    "        if fx == 0.0: return x,i\n",
    "      # Try a Newton-Raphson step    \n",
    "        dfx = df(x)\n",
    "        dx = -fx/dfx\n",
    "        x = x + dx\n",
    "        if abs(dx) < tol: return x,i\n",
    "    print('Too many iterations in Newton-Raphson')\n"
   ]
  },
  {
   "cell_type": "markdown",
   "metadata": {},
   "source": [
    "## Convergence of Bisection and Newton's Methods\n",
    "\n",
    "Consider a function $f(x)=x^3-2x^2+x-3$, "
   ]
  },
  {
   "cell_type": "code",
   "execution_count": 38,
   "metadata": {},
   "outputs": [
    {
     "name": "stdout",
     "output_type": "stream",
     "text": [
      "Root:2.174559, Error:-1.3857981429055144e-09, Iterations:32, Walltime:0.000140\n"
     ]
    }
   ],
   "source": [
    "def f(x):\n",
    "    return x**3 - 2*x**2+x-3\n",
    "def fprime(x):\n",
    "    return 3*x**2-4*x+1\n",
    "\n",
    "\n",
    "import time\n",
    "\n",
    "t0 = time.time()\n",
    "rb,niter=bisection(f,0,3)\n",
    "t1 = time.time()\n",
    "print(f'Root:{rb:.6f}, Error:{f(rb)}, Iterations:{niter}, Walltime:{t1-t0:.6f}')\n"
   ]
  },
  {
   "cell_type": "code",
   "execution_count": 39,
   "metadata": {},
   "outputs": [
    {
     "name": "stdout",
     "output_type": "stream",
     "text": [
      "2.17455941029298 -4.440892098500626e-16\n",
      "Root:2.174559, Error:-4.440892098500626e-16, Iterations:5,Walltime:0.000291\n"
     ]
    }
   ],
   "source": [
    "\n",
    "import time\n",
    "t0 = time.time()\n",
    "rn,niter=newtonRaphson(f,fprime,3)\n",
    "print(rn, f(rn))\n",
    "t1 = time.time()\n",
    "print(f'Root:{rn:.6f}, Error:{f(rn)}, Iterations:{niter}, Walltime:{t1-t0:.6f}')"
   ]
  },
  {
   "cell_type": "markdown",
   "metadata": {},
   "source": [
    "## Improved Newton-Raphson\n",
    "The Newton-Raphson method assumes that the root to be computed is initially bracketed in $(a,b)$. The midpoint of the bracket is used as the initial guess of the root. The brackets are updated after each iteration. If a Newton-Raphson iteration does not stay within the brackets, it is disregarded and replaced with bisection. Because `newtonRaphson2` uses the function $f(x)$ as well as its derivative, function routines for both (denoted by $f$ and $df$ in the listing) must be provided by the user."
   ]
  },
  {
   "cell_type": "code",
   "execution_count": 40,
   "metadata": {},
   "outputs": [],
   "source": [
    "## module newtonRaphson2\n",
    "''' root = newtonRaphson(f,df,a,b,tol=1.0e-9).\n",
    "    Finds a root of f(x) = 0 by combining the Newton-Raphson\n",
    "    method with bisection. The root must be bracketed in (a,b).\n",
    "    Calls user-supplied functions f(x) and its derivative df(x).   \n",
    "'''    \n",
    "def newtonRaphson2(f,df,a,b,tol=1.0e-9):\n",
    "\n",
    "    from numpy import sign\n",
    "    \n",
    "    fa = f(a)\n",
    "    if fa == 0.0: return a\n",
    "    fb = f(b)\n",
    "    if fb == 0.0: return b\n",
    "    if sign(fa) == sign(fb): err('Root is not bracketed')\n",
    "    x = 0.5*(a + b)                    \n",
    "    for i in range(30):\n",
    "        fx = f(x)\n",
    "        if fx == 0.0: return x\n",
    "      # Tighten the brackets on the root \n",
    "        if sign(fa) != sign(fx): b = x  \n",
    "        else: a = x\n",
    "      # Try a Newton-Raphson step    \n",
    "        dfx = df(x)\n",
    "      # If division by zero, push x out of bounds\n",
    "        try: dx = -fx/dfx\n",
    "        except ZeroDivisionError: dx = b - a\n",
    "        x = x + dx\n",
    "      # If the result is outside the brackets, use bisection  \n",
    "        if (b - x)*(x - a) < 0.0:  \n",
    "            dx = 0.5*(b - a)                      \n",
    "            x = a + dx\n",
    "      # Check for convergence     \n",
    "        if abs(dx) < tol*max(abs(b),1.0): return x\n",
    "    print('Too many iterations in Newton-Raphson')\n"
   ]
  },
  {
   "cell_type": "markdown",
   "metadata": {},
   "source": [
    "## Question\n",
    "Find the smallest positive zero of using `newtonRaphson`,\n",
    "$$\n",
    "f(x)=x^4-6.4 x^3+6.45 x^2+20.538 x-31.752\n",
    "$$\n",
    "1. Plot the function. \n",
    "\n",
    "2. Show that the convergence is linear, rather than quadratic by slightly adjusting the intial guess $x_0$.\n",
    "\n",
    "3. Show that the convergence can be sped up by changing the iteration formula to \n",
    "\n",
    "$$\n",
    "x_{i+1}=x_i-2 \\frac{f\\left(x_i\\right)}{f^{\\prime}\\left(x_i\\right)}\n",
    "$$\n",
    "\n"
   ]
  },
  {
   "cell_type": "code",
   "execution_count": 57,
   "metadata": {},
   "outputs": [
    {
     "name": "stdout",
     "output_type": "stream",
     "text": [
      "Root =2.0999999786199406\n",
      "Number of iterations =22\n"
     ]
    }
   ],
   "source": [
    "def f(x): return x**4 - 6.4*x**3 + 6.45*x**2 + 20.538*x - 31.752\n",
    "def df(x): return 4.0*x**3 - 19.2*x**2 + 12.9*x + 20.538\n",
    "\n",
    "root,numIter = newtonRaphson(f,df,2)\n",
    "\n",
    "print(f'Root ={root}')\n",
    "print(f'Number of iterations ={numIter}')"
   ]
  },
  {
   "cell_type": "code",
   "execution_count": null,
   "metadata": {},
   "outputs": [],
   "source": []
  }
 ],
 "metadata": {
  "kernelspec": {
   "display_name": "pytorch",
   "language": "python",
   "name": "python3"
  },
  "language_info": {
   "codemirror_mode": {
    "name": "ipython",
    "version": 3
   },
   "file_extension": ".py",
   "mimetype": "text/x-python",
   "name": "python",
   "nbconvert_exporter": "python",
   "pygments_lexer": "ipython3",
   "version": "3.12.4"
  }
 },
 "nbformat": 4,
 "nbformat_minor": 2
}
