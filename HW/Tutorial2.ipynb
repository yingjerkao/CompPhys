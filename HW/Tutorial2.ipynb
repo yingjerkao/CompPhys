{
 "cells": [
  {
   "cell_type": "markdown",
   "metadata": {},
   "source": [
    "# Tutorial 2\n"
   ]
  },
  {
   "cell_type": "code",
   "execution_count": 5,
   "metadata": {},
   "outputs": [
    {
     "name": "stderr",
     "output_type": "stream",
     "text": [
      "Matplotlib is building the font cache; this may take a moment.\n"
     ]
    }
   ],
   "source": [
    "import sys\n",
    "import numpy as np\n",
    "import matplotlib.pyplot as plt"
   ]
  },
  {
   "cell_type": "markdown",
   "metadata": {},
   "source": [
    "## Newton's Method\n",
    "\n",
    "The data points lie on a polynomial. \n",
    "| $x$ | -2 | 1 | 4 | -1 | 3 | -4 |\n",
    "| ---: | ---: | ---: | ---: | ---: | ---: | ---: |\n",
    "| $y$ | -1 | 2 | 59 | 4 | 24 | -53 |\n",
    "\n",
    "(a) Determine the degree of this polynomial by constructing a divided difference table. Fill in missing cells and construct the interpolating polynomial.\n",
    "\n",
    "| $i$ | $x_i$ | $y_i$ | $\\nabla y_i$ | $\\nabla^2 y_i$ | $\\nabla^3 y_i$ | $\\nabla^4 y_i$ | $\\nabla^5 y_i$ |\n",
    "| :---: | ---: | ---: | ---: | ---: | ---: | ---: | ---: |\n",
    "| 0 |  |  |  |  |  |  |  |\n",
    "| 1 | |  |  |  |  |  |  |\n",
    "| 2 |  |  |  | |  |  |  |\n",
    "| 3 |  |  |  |  |  |  |  |\n",
    "| 4 |  | | |  | |  |  |\n",
    "| 5 |  |  |  |  |  |  |  |"
   ]
  },
  {
   "cell_type": "markdown",
   "metadata": {},
   "source": [
    "## Interpolation Error\n",
    "\n",
    "1. Using 21 equally spaced nodes on the interval $[-5,5]$, find the interpolating polynomial $p$ of degree 20 for the function $f(x)=\\left(x^2+1\\right)^{-1}$. Plot the values of $f(x)$ and $p(x)$ at 41 equally spaced points, including the nodes. Observe the large discrepancy between $f(x)$ and $p(x)$.\n"
   ]
  },
  {
   "cell_type": "code",
   "execution_count": 8,
   "metadata": {},
   "outputs": [
    {
     "data": {
      "image/png": "[encoded data removed]",
      "text/plain": [
       "<Figure size 640x480 with 1 Axes>"
      ]
     },
     "metadata": {},
     "output_type": "display_data"
    }
   ],
   "source": [
    "\n",
    "\n",
    "# Define the function f(x)\n",
    "def f(x):\n",
    "    return 1 / (x**2 + 1)\n",
    "\n",
    "# Generate equally spaced nodes\n",
    "x = np.linspace(-5, 5, 21)\n",
    "\n",
    "# Compute the function values at the nodes\n",
    "y = f(x)\n",
    "\n",
    "# Perform polynomial interpolation\n",
    "coefficients = np.polyfit(x, y, deg=20)\n",
    "p = np.poly1d(coefficients)\n",
    "\n",
    "# Generate equally spaced points for plotting\n",
    "x_plot = np.linspace(-5, 5, 41)\n",
    "\n",
    "# Compute the function values at the points\n",
    "y_f = f(x_plot)\n",
    "y_p = p(x_plot)\n",
    "\n",
    "# Plot the values of f(x) and p(x)\n",
    "plt.plot(x_plot, y_f, label='f(x)')\n",
    "plt.plot(x_plot, y_p, label='p(x)')\n",
    "plt.xlabel('x')\n",
    "plt.ylabel('y')\n",
    "plt.legend()\n",
    "plt.show()"
   ]
  },
  {
   "cell_type": "markdown",
   "metadata": {},
   "source": [
    "2. Perform the experiment in the preceding computer problem, using Chebyshev nodes $x_i=5 \\cos (i \\pi / 20)$, where $0 \\leqq i \\leqq 20$, and nodes $x_i=5 \\cos [(2 i+$ 1) $\\pi / 42$ ], where $0 \\leqq i \\leqq 20$. What conclusion can you draw from this experiment? "
   ]
  },
  {
   "cell_type": "markdown",
   "metadata": {},
   "source": []
  }
 ],
 "metadata": {
  "kernelspec": {
   "display_name": "pytorch",
   "language": "python",
   "name": "python3"
  },
  "language_info": {
   "codemirror_mode": {
    "name": "ipython",
    "version": 3
   },
   "file_extension": ".py",
   "mimetype": "text/x-python",
   "name": "python",
   "nbconvert_exporter": "python",
   "pygments_lexer": "ipython3",
   "version": "3.12.4"
  }
 },
 "nbformat": 4,
 "nbformat_minor": 2
}
