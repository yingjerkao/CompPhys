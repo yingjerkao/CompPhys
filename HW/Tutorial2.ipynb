{
 "cells": [
  {
   "cell_type": "markdown",
   "metadata": {},
   "source": [
    "# Tutorial 2\n"
   ]
  },
  {
   "cell_type": "code",
   "execution_count": null,
   "metadata": {},
   "outputs": [],
   "source": [
    "import sys\n",
    "import numpy as np"
   ]
  },
  {
   "cell_type": "markdown",
   "metadata": {},
   "source": [
    "## Newton's Method\n",
    "\n",
    "The data points lie on a polynomial. \n",
    "| $x$ | -2 | 1 | 4 | -1 | 3 | -4 |\n",
    "| ---: | ---: | ---: | ---: | ---: | ---: | ---: |\n",
    "| $y$ | -1 | 2 | 59 | 4 | 24 | -53 |\n",
    "\n",
    "(a) Determine the degree of this polynomial by constructing a divided difference table. Fill in missing cells and construct the interpolating polynomial.\n",
    "\n",
    "| $i$ | $x_i$ | $y_i$ | $\\nabla y_i$ | $\\nabla^2 y_i$ | $\\nabla^3 y_i$ | $\\nabla^4 y_i$ | $\\nabla^5 y_i$ |\n",
    "| :---: | ---: | ---: | ---: | ---: | ---: | ---: | ---: |\n",
    "| 0 |  |  |  |  |  |  |  |\n",
    "| 1 | |  |  |  |  |  |  |\n",
    "| 2 |  |  |  | |  |  |  |\n",
    "| 3 |  |  |  |  |  |  |  |\n",
    "| 4 |  | | |  | |  |  |\n",
    "| 5 |  |  |  |  |  |  |  |"
   ]
  },
  {
   "cell_type": "markdown",
   "metadata": {},
   "source": [
    "## Interpolation Error\n",
    "Consider these five data points: (0, 8), (1, 12), (3, 2), (4, 6), (8, 0). Construct and plot the interpolation polynomial using the two outermost points. Repeat this process by adding one additional point at a time until all the points are included. Plot the functions. "
   ]
  },
  {
   "cell_type": "markdown",
   "metadata": {},
   "source": []
  }
 ],
 "metadata": {
  "kernelspec": {
   "display_name": "pytorch",
   "language": "python",
   "name": "python3"
  },
  "language_info": {
   "codemirror_mode": {
    "name": "ipython",
    "version": 3
   },
   "file_extension": ".py",
   "mimetype": "text/x-python",
   "name": "python",
   "nbconvert_exporter": "python",
   "pygments_lexer": "ipython3",
   "version": "3.10.13"
  }
 },
 "nbformat": 4,
 "nbformat_minor": 2
}
