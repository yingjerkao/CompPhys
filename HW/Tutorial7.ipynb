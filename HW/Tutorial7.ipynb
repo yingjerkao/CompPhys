{
 "cells": [
  {
   "cell_type": "markdown",
   "metadata": {},
   "source": [
    "# Tutorial 7: Sparse Matrix In Scipy "
   ]
  },
  {
   "cell_type": "markdown",
   "metadata": {},
   "source": [
    "## Conjugated Gradient\n",
    "\n",
    " Use Conjugate Gradient iteration to solve `Ax = b`."
   ]
  },
  {
   "cell_type": "code",
   "execution_count": 1,
   "metadata": {},
   "outputs": [
    {
     "name": "stdout",
     "output_type": "stream",
     "text": [
      "0\n"
     ]
    },
    {
     "data": {
      "text/plain": [
       "True"
      ]
     },
     "execution_count": 1,
     "metadata": {},
     "output_type": "execute_result"
    }
   ],
   "source": [
    "import numpy as np\n",
    "from scipy.sparse import csc_matrix\n",
    "from scipy.sparse.linalg import cg\n",
    "\n",
    "P = np.array([[4, 0, 1, 0], [0, 5, 0, 0], [1, 0, 3, 2], [0, 0, 2, 4]])\n",
    "A = csc_matrix(P)\n",
    "b = np.array([-1, -0.5, -1, 2])\n",
    "x, exit_code = cg(A, b, atol=1e-5)\n",
    "print(exit_code)  # 0 indicates successful convergence\n",
    "0\n",
    "np.allclose(A.dot(x), b)"
   ]
  },
  {
   "cell_type": "code",
   "execution_count": null,
   "metadata": {},
   "outputs": [],
   "source": [
    "''' d,c = householder(a).\n",
    "    Householder similarity transformation of matrix [a] to \n",
    "    tridiagonal form].\n",
    "    d = diagonal of the tridiagonal matrix.\n",
    "    c = subdiagonal of the tridiagonal matrix.\n",
    "\n",
    "    p = computeP(a).\n",
    "    Computes the acccumulated transformation matrix [p]\n",
    "    after calling householder(a).\n",
    "'''    \n",
    "import numpy as np\n",
    "import math\n",
    "\n",
    "def householder(a): \n",
    "    n = len(a)\n",
    "    for k in range(n-2):\n",
    "        pass\n",
    "    \n",
    "\n",
    "def computeP(a): \n",
    "    n = len(a)\n",
    "    p = np.identity(n)*1.0\n",
    "    for k in range(n-2):\n",
    "        pass \n",
    "    "
   ]
  },
  {
   "cell_type": "markdown",
   "metadata": {},
   "source": [
    "## Eigenvalues of a Symmetric Matrix\n",
    "\n",
    "For a given symmetric matrix $\\mathbf{A}$, we can use the Householder reduction to convert it to a tridiagonal matrix $\\mathbf{T}$. We can obtain the eigenvalues of $\\mathbf{T}$ using a QR algorithm. \n",
    "\n",
    "We will implement the QR decomposition using Householder reduction in the homework. Here we will just use `scipy.linalg.qr`.\n",
    "\n",
    "## TODO\n",
    " Find the eigenvalue of the following matrix using your Householder function and  `scipy.linalg.qr`. Compare with the results you get from `scipy.linalg.eig`\n",
    "\n",
    " $$\n",
    " \\mathbf{A}=\\left[\\begin{array}{lllll}\n",
    "6 & 2 & 0 & 0 & 0 \\\\\n",
    "2 & 5 & 2 & 0 & 0 \\\\\n",
    "0 & 2 & 7 & 4 & 0 \\\\\n",
    "0 & 0 & 4 & 6 & 1 \\\\\n",
    "0 & 0 & 0 & 1 & 3\n",
    "\\end{array}\\right]\n",
    "$$\n",
    "\n",
    "\n"
   ]
  },
  {
   "cell_type": "code",
   "execution_count": null,
   "metadata": {},
   "outputs": [],
   "source": [
    "a=np.array([[6,2,0,0,0],[2,5,2,0,0],[0,2,7,4,0],[0,0,4,6,1],[0,0,0,1,3]])\n",
    "print(a)\n",
    "d,c = householder(a)"
   ]
  },
  {
   "cell_type": "markdown",
   "metadata": {},
   "source": []
  }
 ],
 "metadata": {
  "kernelspec": {
   "display_name": "pytorch",
   "language": "python",
   "name": "python3"
  },
  "language_info": {
   "codemirror_mode": {
    "name": "ipython",
    "version": 3
   },
   "file_extension": ".py",
   "mimetype": "text/x-python",
   "name": "python",
   "nbconvert_exporter": "python",
   "pygments_lexer": "ipython3",
   "version": "3.10.13"
  }
 },
 "nbformat": 4,
 "nbformat_minor": 2
}
