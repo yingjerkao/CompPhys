{
 "cells": [
  {
   "cell_type": "markdown",
   "metadata": {},
   "source": [
    "# Tutorial 7: Exact Diagonalization of Transverse Ising Model"
   ]
  },
  {
   "cell_type": "markdown",
   "metadata": {},
   "source": [
    "## Conjugated Gradient\n",
    "\n",
    " Use Conjugate Gradient iteration to solve `Ax = b`."
   ]
  },
  {
   "cell_type": "code",
   "execution_count": null,
   "metadata": {},
   "outputs": [],
   "source": [
    "import numpy as np\n",
    "from scipy.sparse import csc_matrix\n",
    "from scipy.sparse.linalg import cg\n",
    "\n",
    "P = np.array([[4, 0, 1, 0], [0, 5, 0, 0], [1, 0, 3, 2], [0, 0, 2, 4]])\n",
    "A = csc_matrix(P)\n",
    "b = np.array([-1, -0.5, -1, 2])\n",
    "x, exit_code = cg(A, b, atol=1e-5)\n",
    "print(exit_code)  # 0 indicates successful convergence\n",
    "\n",
    "\n",
    "np.allclose(A.dot(x), b)"
   ]
  },
  {
   "cell_type": "markdown",
   "metadata": {},
   "source": [
    "## Exact Diagonalization of a 1D Quantum Ising Model\n",
    "\n",
    "This is a simple code for exact diagonalization to find the ground state of a 1D quantum Ising model. The Hamiltonian is generated in a naive way and no symmetries are implemented. \n",
    "\n",
    "Run the program and experiment with differen sizes of $L$. "
   ]
  },
  {
   "cell_type": "code",
   "execution_count": null,
   "metadata": {},
   "outputs": [],
   "source": [
    "\"\"\" Exact diagonalization code to find the ground state of \n",
    "a 1D quantum Ising model.\"\"\"\n",
    "\n",
    "import scipy.sparse as sparse \n",
    "import numpy as np \n",
    "from scipy.sparse.linalg import eigsh\n",
    "import matplotlib.pyplot as plt\n",
    "from time import process_time_ns\n",
    "\n",
    "def gen_spin_operators(L): \n",
    "\t\"\"\"\" Returns the spin operators sigma_x and sigma_z for L sites \"\"\"\n",
    "\tsx = sparse.csr_matrix(np.array([[0.,1.],[1.,0.]]))\n",
    "\tsz = sparse.csr_matrix(np.array([[1.,0.],[0.,-1.]]))\n",
    "\t    \n",
    "\td = 2\n",
    "\tsx_list = []\n",
    "\tsz_list = []\n",
    "\n",
    "\tfor i_site in range(L): \n",
    "\t\tif i_site==0: \n",
    "\t\t\tX=sx\n",
    "\t\t\tZ=sz \n",
    "\t\telse: \n",
    "\t\t\tX= sparse.csr_matrix(np.eye(d)) \n",
    "\t\t\tZ= sparse.csr_matrix(np.eye(d))\n",
    "            \n",
    "\t\tfor j_site in range(1,L): \n",
    "\t\t\tif j_site==i_site: \n",
    "\t\t\t\tX=sparse.kron(X,sx, 'csr')\n",
    "\t\t\t\tZ=sparse.kron(Z,sz, 'csr') \n",
    "\t\t\telse: \n",
    "\t\t\t\tX=sparse.kron(X,np.eye(d),'csr') \n",
    "\t\t\t\tZ=sparse.kron(Z,np.eye(d),'csr') \n",
    "\t\tsx_list.append(X)\n",
    "\t\tsz_list.append(Z) \n",
    "\t\t\n",
    "\treturn sx_list,sz_list \n",
    "\n",
    "def gen_hamiltonian(sx_list,sz_list,L): \n",
    "\t\"\"\"\" Generates the Hamiltonian \"\"\"    \n",
    "\tH_zz = sparse.csr_matrix((2**L,2**L))\n",
    "\tH_x = sparse.csr_matrix((2**L,2**L))       \n",
    "\t    \n",
    "\tfor i in range(L):\n",
    "\t\tH_zz = H_zz + sz_list[i]*sz_list[np.mod(i+1,L)]\n",
    "\t\tH_x = H_x + sx_list[i]\n",
    "     \n",
    "\treturn H_zz, H_x \n",
    "\t\n",
    "\n",
    "\n",
    "# Set parameters here\t\n",
    "L_list = [4,8,16]\n",
    "\n",
    "g_list = np.arange(0,2,0.1)\n",
    "fig=plt.figure()\n",
    "for L in L_list:\n",
    "\tt=process_time_ns()\n",
    "\tsx_list,sz_list  = gen_spin_operators(L)\n",
    "\tt1=process_time_ns()-t\n",
    "\tH_zz, H_x = gen_hamiltonian(sx_list,sz_list,L)\n",
    "\telapsed=process_time_ns()-t1\n",
    "\tprint(f\"L:{L}\")\n",
    "\tprint(\"elased time:\")\n",
    "\tprint(f\"gen_spin {t1}ns, gen_Hamil {elapsed} ns\\n\")\n",
    "\tm_list = []\n",
    "\te_list = []\n",
    "\tfor g in g_list:\n",
    "\t\tH = -H_zz + g*H_x\n",
    "\t\te,v = eigsh(H,k=1,which='SA',return_eigenvectors=True)\n",
    "\t\t## Measure the spin-spin correlation function at the longest distance\n",
    "\t\tm_list.append(np.dot(v.T,sz_list[0]*sz_list[L//2]*v).item())\n",
    "\t\te_list.append(e/L)\n",
    "\tplt.subplot(211)\n",
    "\tplt.plot(g_list,m_list)\n",
    "\tplt.subplot(212)\n",
    "\tplt.plot(g_list,e_list)\n",
    "\t\n",
    "plt.xlabel(\"$g$\")\n",
    "plt.subplot(211)\n",
    "plt.ylabel(\"$\\\\langle \\\\sigma_z(0)\\\\sigma_z(L/2) \\\\rangle$\")\n",
    "plt.subplot(212)\n",
    "plt.ylabel(\"$e/L$\")\n",
    "plt.show()\n",
    "\t\n",
    "\t\t\n",
    "\t\t\n",
    "\t\t\n",
    "\t\t\n",
    "\t\t\n"
   ]
  },
  {
   "cell_type": "code",
   "execution_count": null,
   "metadata": {},
   "outputs": [],
   "source": []
  },
  {
   "cell_type": "markdown",
   "metadata": {},
   "source": []
  }
 ],
 "metadata": {
  "kernelspec": {
   "display_name": "pytorch",
   "language": "python",
   "name": "python3"
  },
  "language_info": {
   "codemirror_mode": {
    "name": "ipython",
    "version": 3
   },
   "file_extension": ".py",
   "mimetype": "text/x-python",
   "name": "python",
   "nbconvert_exporter": "python",
   "pygments_lexer": "ipython3",
   "version": "3.12.4"
  }
 },
 "nbformat": 4,
 "nbformat_minor": 2
}
