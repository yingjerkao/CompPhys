{
 "cells": [
  {
   "cell_type": "markdown",
   "metadata": {},
   "source": [
    "# Tutorial 1\n"
   ]
  },
  {
   "cell_type": "code",
   "execution_count": null,
   "metadata": {},
   "outputs": [],
   "source": [
    "import sys\n",
    "import numpy as np"
   ]
  },
  {
   "cell_type": "markdown",
   "metadata": {},
   "source": [
    "## One's complement and Two's complement\n",
    "\n",
    "In this part of the tutorial we will understand the binary representation of integers, one's complement, and two's complement\n",
    "\n",
    "Given an 2-byte (16-bit) pattern, we will decipher what it represents as an unsigned integer and a signed integer. "
   ]
  },
  {
   "cell_type": "code",
   "execution_count": null,
   "metadata": {},
   "outputs": [],
   "source": [
    "x=0b0100010001101011\n",
    "print(x)"
   ]
  },
  {
   "cell_type": "markdown",
   "metadata": {},
   "source": [
    "In Python to get one's complement, we can use the bitwise XOR `^` with `1111111111111111`. This operation corresponds to a bitwise NOT. \n",
    "\n",
    "(a) Use the truth table of XOR, confirm the above statement. \n",
    "| Input |  | Output |\n",
    "| :---: | :---: | :---: |\n",
    "| A | B | A XOR B |\n",
    "| 0 | 0 | 0 |\n",
    "| 0 | 1 | 1 |\n",
    "| 1 | 0 | 1 |\n",
    "| 1 | 1 | 0 |"
   ]
  },
  {
   "cell_type": "code",
   "execution_count": null,
   "metadata": {},
   "outputs": [],
   "source": [
    "ones_x = x ^ 0b1111111111111111\n",
    "print(f'{ones_x:016b}')\n",
    "print(ones_x)"
   ]
  },
  {
   "cell_type": "markdown",
   "metadata": {},
   "source": [
    "(b) Check the bit pattern does corresponds to the output integer."
   ]
  },
  {
   "cell_type": "code",
   "execution_count": null,
   "metadata": {},
   "outputs": [],
   "source": [
    "twos_x=ones_x+1 # 2's complement\n",
    "print(f'{twos_x:016b}')\n",
    "print(twos_x)\n",
    "print(np.array(twos_x).astype(np.int16))\n",
    "\n"
   ]
  },
  {
   "cell_type": "markdown",
   "metadata": {},
   "source": [
    "(c) In Python, there is a bitwise NOT operator `~`. What does this operator do to `x`?"
   ]
  },
  {
   "cell_type": "code",
   "execution_count": null,
   "metadata": {},
   "outputs": [],
   "source": [
    "y=~x\n",
    "print(f'{y:d}')"
   ]
  },
  {
   "cell_type": "markdown",
   "metadata": {},
   "source": [
    "## Integer overflow\n",
    "\n",
    "There is a subtle difference between the integer implementation in default Python and Numpy. \n",
    "In the standard Python, all integers  are implemented as `long` integer objects of *arbitrary size*. That is, it never overflows.\n",
    "Numpy implements the 64-bit signed integer `numpy.int64`, therefore it can overflow.  "
   ]
  },
  {
   "cell_type": "code",
   "execution_count": null,
   "metadata": {},
   "outputs": [],
   "source": [
    "def countTotalBits(num):\n",
    "     \n",
    "     # convert number into it's binary and \n",
    "     # remove first two characters .\n",
    "     binary = bin(num)[2:]\n",
    "     print(len(binary)) "
   ]
  },
  {
   "cell_type": "code",
   "execution_count": null,
   "metadata": {},
   "outputs": [],
   "source": [
    "a=sys.maxsize # Maxmimum  of long signed integer in C 2^63-1\n",
    "print(f'{a:64b}')\n",
    "print(type(a))\n",
    "countTotalBits(a)"
   ]
  },
  {
   "cell_type": "code",
   "execution_count": null,
   "metadata": {},
   "outputs": [],
   "source": [
    "a+=1 # This should become negative for int64\n",
    "print(f'{a:64b}')\n",
    "print(type(a))\n",
    "countTotalBits(a)\n",
    "print(np.array(a).astype(np.int64))"
   ]
  },
  {
   "cell_type": "code",
   "execution_count": null,
   "metadata": {},
   "outputs": [],
   "source": [
    "a<<=1 # equivalent to a*2\n",
    "print(f'{a:64b}')\n",
    "countTotalBits(a)\n",
    "print(np.array(a).astype(np.int64))"
   ]
  },
  {
   "cell_type": "markdown",
   "metadata": {},
   "source": [
    "The following code shows that overflow behavior of `int64`.\n",
    "Both `i` and `si`'s initial bit pattern corresponds to hexdecimal `0x00000001`. Understand why the two results are different. \n"
   ]
  },
  {
   "cell_type": "code",
   "execution_count": null,
   "metadata": {},
   "outputs": [],
   "source": [
    "i=1\n",
    "si=np.int64(1)\n",
    "for k in range(64):\n",
    "    si *= 2\n",
    "    i *= 2\n",
    "    print(f'{k+1:3d} {si:20d} {i:20d} ')\n",
    "\n"
   ]
  },
  {
   "cell_type": "code",
   "execution_count": null,
   "metadata": {},
   "outputs": [],
   "source": []
  },
  {
   "cell_type": "markdown",
   "metadata": {},
   "source": []
  }
 ],
 "metadata": {
  "kernelspec": {
   "display_name": "pytorch",
   "language": "python",
   "name": "python3"
  },
  "language_info": {
   "codemirror_mode": {
    "name": "ipython",
    "version": 3
   },
   "file_extension": ".py",
   "mimetype": "text/x-python",
   "name": "python",
   "nbconvert_exporter": "python",
   "pygments_lexer": "ipython3",
   "version": "3.10.13"
  }
 },
 "nbformat": 4,
 "nbformat_minor": 2
}
