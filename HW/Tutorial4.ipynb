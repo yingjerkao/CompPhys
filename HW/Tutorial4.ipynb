{
 "cells": [
  {
   "cell_type": "markdown",
   "metadata": {},
   "source": [
    "# Tutorial 4: Numerical Integration"
   ]
  },
  {
   "cell_type": "markdown",
   "metadata": {},
   "source": [
    "Use the recursive trapezoidal rule to evaluate $\\int_0^\\pi \\sqrt{x} \\cos x d x$ to six decimal places. "
   ]
  },
  {
   "cell_type": "code",
   "execution_count": null,
   "metadata": {},
   "outputs": [],
   "source": [
    "## module trapezoid\n",
    "''' Inew = trapezoid(f,a,b,Iold,k).\n",
    "    Recursive trapezoidal rule:\n",
    "    Iold = Integral of f(x) from x = a to b computed by\n",
    "    trapezoidal rule with 2^(k-1) panels.\n",
    "    Inew = Same integral computed with 2^k panels.\n",
    "'''\n",
    "def trapezoid(f,a,b,Iold,k):\n",
    "    if k == 1:Inew = (f(a) + f(b))*(b - a)/2.0\n",
    "    else:\n",
    "        n = 2**(k -2 )      # Number of new points\n",
    "        h = (b - a)/n       # Spacing of new points\n",
    "        x = a + h/2.0       # Coord. of 1st new point\n",
    "        sum = 0.0\n",
    "        for i in range(n):\n",
    "            sum = sum + f(x)\n",
    "            x = x + h\n",
    "        Inew = (Iold + h*sum)/2.0\n",
    "    return Inew\n",
    "\n",
    "\n",
    "\n",
    "    "
   ]
  },
  {
   "cell_type": "code",
   "execution_count": null,
   "metadata": {},
   "outputs": [],
   "source": []
  }
 ],
 "metadata": {
  "kernelspec": {
   "display_name": "pytorch",
   "language": "python",
   "name": "python3"
  },
  "language_info": {
   "file_extension": ".jl",
   "mimetype": "application/julia",
   "name": "python",
   "version": "3.10.13"
  }
 },
 "nbformat": 4,
 "nbformat_minor": 2
}
