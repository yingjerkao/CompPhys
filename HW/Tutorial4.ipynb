{
 "cells": [
  {
   "cell_type": "markdown",
   "metadata": {},
   "source": [
    "# Tutorial 4: Numerical Integration"
   ]
  },
  {
   "cell_type": "markdown",
   "metadata": {},
   "source": [
    "Use the recursive trapezoidal rule to evaluate $\\int_0^\\pi \\sqrt{x} \\cos x d x$ to six decimal places. "
   ]
  },
  {
   "cell_type": "code",
   "execution_count": null,
   "metadata": {},
   "outputs": [],
   "source": [
    "''' Inew = trapezoid(f,a,b,Iold,k).\n",
    "    Recursive trapezoidal rule:\n",
    "    Iold = Integral of f(x) from x = a to b computed by\n",
    "    trapezoidal rule with 2^(k-1) panels.\n",
    "    Inew = Same integral computed with 2^k panels.\n",
    "'''\n",
    "def trapezoid(f,a,b,Iold,k):\n",
    "    if k == 1:Inew = (f(a) + f(b))*(b - a)/2.0\n",
    "    else:\n",
    "        n = 2**(k -2 )      # Number of new points\n",
    "        h = (b - a)/n       # Spacing of new points\n",
    "        x = a + h/2.0       # Coord. of 1st new point\n",
    "        sum = 0.0\n",
    "        for i in range(n):\n",
    "            sum = sum + f(x)\n",
    "            x = x + h\n",
    "        Inew = (Iold + h*sum)/2.0\n",
    "    return Inew\n",
    "\n",
    "\n",
    "### Your Code Here    \n",
    "\n",
    "def f(x):\n",
    "    return \n",
    "\n"
   ]
  },
  {
   "cell_type": "markdown",
   "metadata": {},
   "source": [
    "In the following code, examine the convergence of numerical integrals vs  the number of trapezoidal(closed)/midpoint(open) integrations for the Romberg integration. Try out different functions with and without integrable singularities."
   ]
  },
  {
   "cell_type": "code",
   "execution_count": 3,
   "metadata": {},
   "outputs": [],
   "source": [
    "import numpy as np\n",
    "\n",
    "def func(x):  # Function to be integrated\n",
    "    # return np.exp(x) * np.sin(x) * np.log(np.cos(x * 100) + 2)\n",
    "    return np.exp(x)\n",
    "\n",
    "def pextrapolate(val):  # Polynomial extrapolation (Lagrange) based on numbers in vector val\n",
    "    n = len(val) - 1  # take n from size of vector\n",
    "    p0 = 0.0\n",
    "    for k in range(n + 1):\n",
    "        p = 1.0\n",
    "        for j in range(n + 1):\n",
    "            if j != k:\n",
    "                p = p / (2.0 ** (2 * (j - k)) - 1)\n",
    "        p0 = p0 + p * val[k] * (-1) ** n\n",
    "    return p0\n",
    "\n",
    "def gridsum(func, x1, dx, nx, fsum):  # summing over grid points\n",
    "    for i in range(nx):\n",
    "        fsum = fsum + func(x1 + i * dx)\n",
    "    return fsum\n",
    "\n",
    "def romberg1(func, x1, x2, n0):  # closed interval Romberg\n",
    "    n = n0 - 1\n",
    "    dx = (x2 - x1) / n0\n",
    "    fsum = (func(x1) + func(x2)) / 2\n",
    "    fsum = gridsum(func, x1 + dx, dx, n, fsum)\n",
    "    val = [dx * fsum]\n",
    "    print(0, \" \", val[0])\n",
    "    m = n\n",
    "    for i in range(1, 16):\n",
    "        if i == 1:\n",
    "            n = n + 1\n",
    "            m = m + n\n",
    "        else:\n",
    "            n = m + 1\n",
    "            m = m + n\n",
    "            dx = dx / 2\n",
    "        fsum = gridsum(func, x1 + dx / 2, dx, n, fsum)\n",
    "        val.append(0.5 * dx * fsum)\n",
    "        print(i, \" \", val[i], \" \", pextrapolate(val))\n",
    "\n",
    "def romberg2(func, x1, x2, n0):  # open interval Romberg\n",
    "    n = n0 - 1\n",
    "    dx = (x2 - x1) / n0\n",
    "    dsum = (func(x1 + dx) + func(x2 - dx)) / 2\n",
    "    fsum = gridsum(func, x1 + dx, dx, n, dsum)\n",
    "    val = [dx * fsum]\n",
    "    print(0, \" \", val[0])\n",
    "    m = n\n",
    "    for i in range(1, 16):\n",
    "        if i == 1:\n",
    "            n = n + 1\n",
    "            m = m + n\n",
    "        else:\n",
    "            n = m + 1\n",
    "            m = m + n\n",
    "            dx = dx / 2\n",
    "        fsum = fsum - dsum\n",
    "        dsum = (func(x1 + dx / 2) + func(x2 - dx / 2)) / 2\n",
    "        fsum = fsum + dsum\n",
    "        fsum = gridsum(func, x1 + dx / 2, dx, n, fsum)\n",
    "        val.append(0.5 * dx * fsum)\n",
    "        print(i, \" \", val[i], \" \", pextrapolate(val))\n",
    "\n"
   ]
  },
  {
   "cell_type": "code",
   "execution_count": 4,
   "metadata": {},
   "outputs": [
    {
     "name": "stdout",
     "output_type": "stream",
     "text": [
      "0   1.7197134913893146\n",
      "1   1.718639788925221   1.7182818881038564\n",
      "2   1.7183713213720635   1.7182818284599326\n",
      "3   1.7183042018620887   1.7182818284590442\n",
      "4   1.7182874218207311   1.7182818284590464\n",
      "5   1.718283226800148   1.7182818284590429\n",
      "6   1.7182821780443636   1.718281828459045\n",
      "7   1.7182819158553777   1.718281828459046\n",
      "8   1.7182818503081276   1.7182818284590433\n",
      "9   1.7182818339213146   1.7182818284590435\n",
      "10   1.7182818298246172   1.7182818284590518\n",
      "11   1.7182818288004396   1.7182818284590464\n",
      "12   1.7182818285443995   1.7182818284590533\n",
      "13   1.7182818284803762   1.7182818284590338\n",
      "14   1.7182818284643588   1.7182818284590184\n",
      "15   1.718281828460359   1.718281828459025\n"
     ]
    }
   ],
   "source": [
    "romberg1(func, 0.0, 1.0, 10)\n"
   ]
  },
  {
   "cell_type": "code",
   "execution_count": 5,
   "metadata": {},
   "outputs": [
    {
     "name": "stdout",
     "output_type": "stream",
     "text": [
      "0   1.7120381014279922\n",
      "1   1.7166072621060415   1.718130315665391\n",
      "2   1.7178488276601636   1.718271507323503\n",
      "3   1.7181717731892991   1.7182806809607012\n",
      "4   1.7182540883569293   1.7182816889480017\n",
      "5   1.718274865106764   1.7182818111391818\n",
      "6   1.7182800840775432   1.718281826297754\n",
      "7   1.7182813919205788   1.7182818281890002\n",
      "8   1.7182817192690312   1.7182818284252912\n",
      "9   1.7182818011546155   1.7182818284548245\n",
      "10   1.718281821632077   1.7182818284585248\n",
      "11   1.718281826752196   1.7182818284589798\n",
      "12   1.7182818280323247   1.7182818284590446\n",
      "13   1.7182818283523558   1.7182818284590322\n",
      "14   1.718281828432353   1.7182818284590176\n",
      "15   1.7182818284523576   1.7182818284590256\n"
     ]
    }
   ],
   "source": [
    "romberg2(func, 0.0, 1.0, 10)"
   ]
  },
  {
   "cell_type": "markdown",
   "metadata": {},
   "source": [
    "What conclusion can you draw from the above experiments with non-singular and singular integrands?"
   ]
  },
  {
   "cell_type": "markdown",
   "metadata": {},
   "source": []
  }
 ],
 "metadata": {
  "kernelspec": {
   "display_name": "pytorch",
   "language": "python",
   "name": "python3"
  },
  "language_info": {
   "codemirror_mode": {
    "name": "ipython",
    "version": 3
   },
   "file_extension": ".py",
   "mimetype": "text/x-python",
   "name": "python",
   "nbconvert_exporter": "python",
   "pygments_lexer": "ipython3",
   "version": "3.12.4"
  }
 },
 "nbformat": 4,
 "nbformat_minor": 2
}
