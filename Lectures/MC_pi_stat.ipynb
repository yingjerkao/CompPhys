{
 "cells": [
  {
   "cell_type": "code",
   "execution_count": null,
   "metadata": {},
   "outputs": [],
   "source": []
  },
  {
   "cell_type": "markdown",
   "metadata": {},
   "source": []
  },
  {
   "cell_type": "code",
   "execution_count": 5,
   "metadata": {},
   "outputs": [
    {
     "data": {
      "application/vnd.jupyter.widget-view+json": {
       "model_id": "1162f525fff84ee192d29041da470dfe",
       "version_major": 2,
       "version_minor": 0
      },
      "text/plain": [
       "interactive(children=(IntText(value=1, description='N (samples per run)'), IntText(value=10, description='M (n…"
      ]
     },
     "metadata": {},
     "output_type": "display_data"
    },
    {
     "data": {
      "text/plain": [
       "<function __main__.update_plot(N, M)>"
      ]
     },
     "execution_count": 5,
     "metadata": {},
     "output_type": "execute_result"
    }
   ],
   "source": [
    "import random\n",
    "import matplotlib.pyplot as plt\n",
    "import ipywidgets as widgets\n",
    "from ipywidgets import interact\n",
    "import numpy as np\n",
    "\n",
    "\n",
    "# Function to estimate pi for a single run\n",
    "def monte_carlo_pi(num_samples):\n",
    "    inside_circle = 0\n",
    "\n",
    "    for _ in range(num_samples):\n",
    "        x = random.uniform(0, 1)\n",
    "        y = random.uniform(0, 1)\n",
    "\n",
    "        if x**2 + y**2 <= 1:\n",
    "            inside_circle += 1\n",
    "\n",
    "    # Pi is approximately 4 times the ratio of points inside the circle to total points\n",
    "    pi_estimate = (inside_circle / num_samples) * 4\n",
    "    return pi_estimate\n",
    "\n",
    "# Function to perform M runs of Monte Carlo and collect the pi estimates\n",
    "def collect_pi_estimates(num_samples, num_runs):\n",
    "    estimates = []\n",
    "\n",
    "    for _ in range(num_runs):\n",
    "        pi_estimate = monte_carlo_pi(num_samples)\n",
    "        estimates.append(pi_estimate)\n",
    "\n",
    "    return estimates\n",
    "\n",
    "# Function to update the plot based on N and M\n",
    "def update_plot(N, M):\n",
    "    pi_estimates = collect_pi_estimates(N, M)\n",
    "    \n",
    "    plt.figure(figsize=(10, 6))\n",
    "    plt.hist(pi_estimates, bins=30, edgecolor='black', alpha=0.7)\n",
    "    plt.title(f\"Histogram of Pi Estimates for {M} runs with {N} samples each\")\n",
    "    plt.xlabel(\"Estimated Pi\")\n",
    "    plt.ylabel(\"Frequency\")\n",
    "    plt.axvline(x=3.1416, color='red', linestyle='dashed', linewidth=2, label='Actual Pi')\n",
    "    plt.legend()\n",
    "    plt.show()\n",
    "\n",
    "# Create interactive widgets for N and M\n",
    "N_input = widgets.IntText(value=1, description='N (samples per run)')\n",
    "M_input = widgets.IntText(value=10, description='M (number of runs)')\n",
    "\n",
    "\n",
    "# Use the interact function to create an interactive plot\n",
    "interact(update_plot, N=N_input, M=M_input)\n"
   ]
  },
  {
   "cell_type": "code",
   "execution_count": null,
   "metadata": {},
   "outputs": [],
   "source": []
  },
  {
   "cell_type": "code",
   "execution_count": null,
   "metadata": {},
   "outputs": [],
   "source": []
  }
 ],
 "metadata": {
  "kernelspec": {
   "display_name": "pytorch",
   "language": "python",
   "name": "python3"
  },
  "language_info": {
   "codemirror_mode": {
    "name": "ipython",
    "version": 3
   },
   "file_extension": ".py",
   "mimetype": "text/x-python",
   "name": "python",
   "nbconvert_exporter": "python",
   "pygments_lexer": "ipython3",
   "version": "3.12.4"
  }
 },
 "nbformat": 4,
 "nbformat_minor": 2
}
